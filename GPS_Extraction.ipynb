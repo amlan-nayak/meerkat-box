{
 "cells": [
  {
   "cell_type": "code",
   "execution_count": 2,
   "metadata": {},
   "outputs": [],
   "source": [
    "import numpy as np\n",
    "import matplotlib.pyplot as plt\n",
    "import pandas as pd\n",
    "import os\n",
    "from pathlib import Path"
   ]
  },
  {
   "cell_type": "code",
   "execution_count": 3,
   "metadata": {},
   "outputs": [],
   "source": [
    "#For different groups change the text between /Raw Data and /Collar in MainPath and /Processed Data and /GPS in SavePath\n",
    "#Different Groups -  ZU_2021_1, ZU_2021_2, NQ_2021_1 and RW_2021_1\n",
    "MainPath = '/media/amlan/Data/Thesis Data/Raw Data/RW_2021_1/COLLAR/GPS/'\n",
    "SavePath = '/media/amlan/Data/Thesis Data/Processed Data/RW_2021_1/GPS/'\n",
    "\n",
    "os.makedirs(SavePath, exist_ok=True)\n",
    "\n",
    "paths = os.listdir(MainPath)\n",
    "paths = [i for i in paths if 'DS_Store' not in i]\n"
   ]
  },
  {
   "cell_type": "code",
   "execution_count": 4,
   "metadata": {},
   "outputs": [
    {
     "name": "stdout",
     "output_type": "stream",
     "text": [
      "['RW_VJXM122_SHRT_Axy002_20210604-20210611', 'RW_VJXM126_SHMB_Axy010_20210604-20210604', 'RW_VJXM126_SHMB_Axy013_20210605-20210606', 'RW_VMPF026_RST_Axy003_20210604-20210608', 'RW_VMPF026_RST_Axy019_20210609-20210611', 'RW_VMPF029_MBT_Axy004_20210604-20210611']\n"
     ]
    }
   ],
   "source": [
    "print(paths)\n"
   ]
  },
  {
   "cell_type": "code",
   "execution_count": 10,
   "metadata": {
    "scrolled": true
   },
   "outputs": [
    {
     "name": "stdout",
     "output_type": "stream",
     "text": [
      "\n",
      "File:  RW_VJXM122_SHRT_Axy002_20210604-20210611\n",
      "Dimensions:  (6370671, 4)\n",
      "Dimensions after removing NaN rows:  (71477, 4)\n",
      "\n",
      "File:  RW_VJXM126_SHMB_Axy010_20210604-20210604\n",
      "Dimensions:  (50540, 4)\n",
      "Dimensions after removing NaN rows:  (4123, 4)\n",
      "\n",
      "File:  RW_VJXM126_SHMB_Axy013_20210605-20210606\n",
      "Dimensions:  (1643400, 4)\n",
      "Dimensions after removing NaN rows:  (20523, 4)\n",
      "\n",
      "File:  RW_VMPF026_RST_Axy003_20210604-20210608\n",
      "Dimensions:  (850140, 4)\n",
      "Dimensions after removing NaN rows:  (680, 4)\n",
      "\n",
      "File:  RW_VMPF026_RST_Axy019_20210609-20210611\n",
      "Dimensions:  (2002400, 4)\n",
      "Dimensions after removing NaN rows:  (31234, 4)\n",
      "\n",
      "File:  RW_VMPF029_MBT_Axy004_20210604-20210611\n",
      "Dimensions:  (6380751, 4)\n",
      "Dimensions after removing NaN rows:  (72707, 4)\n"
     ]
    }
   ],
   "source": [
    "def GPS_Extraction(Data):\n",
    "    \n",
    "    Data = Data.dropna(axis=0)\n",
    "    print('Dimensions after removing NaN rows: ',Data.shape)\n",
    "    Data = Data.reset_index(drop=True)\n",
    "    Data['Timestamp'] = pd.to_datetime(Data['Timestamp'],format=\"%d/%m/%Y %H:%M:%S.%f\")\n",
    "    return Data\n",
    "\n",
    "def load_GPS_files(x,MainPath):\n",
    "    File = str(x) + '/' + str(x) + '.csv' \n",
    "    Data = pd.read_csv(MainPath + File,usecols = ['Timestamp','location-lat','location-lon','height-msl']) \n",
    "    print('\\nFile: ',x)\n",
    "    print('Dimensions: ',Data.shape)\n",
    "    return Data\n",
    "\n",
    "for y in paths:\n",
    "    \n",
    "    Data = load_GPS_files(y,MainPath)\n",
    "\n",
    "    Data = GPS_Extraction(Data)\n",
    "\n",
    "    Data.to_csv(SavePath + y +'.csv')\n",
    "\n"
   ]
  },
  {
   "cell_type": "code",
   "execution_count": null,
   "metadata": {},
   "outputs": [],
   "source": []
  }
 ],
 "metadata": {
  "kernelspec": {
   "display_name": "Python 3",
   "language": "python",
   "name": "python3"
  },
  "language_info": {
   "codemirror_mode": {
    "name": "ipython",
    "version": 3
   },
   "file_extension": ".py",
   "mimetype": "text/x-python",
   "name": "python",
   "nbconvert_exporter": "python",
   "pygments_lexer": "ipython3",
   "version": "3.8.10"
  }
 },
 "nbformat": 4,
 "nbformat_minor": 4
}
