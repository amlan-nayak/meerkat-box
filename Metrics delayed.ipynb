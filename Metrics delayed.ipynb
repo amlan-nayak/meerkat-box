{
 "cells": [
  {
   "cell_type": "code",
   "execution_count": 14,
   "metadata": {},
   "outputs": [],
   "source": [
    "import numpy as np\n",
    "import pandas as pd\n",
    "import matplotlib.pyplot as plt\n",
    "import seaborn as sns"
   ]
  },
  {
   "cell_type": "code",
   "execution_count": 15,
   "metadata": {},
   "outputs": [],
   "source": [
    "from sklearn.model_selection import train_test_split,KFold,cross_val_score\n",
    "from sklearn.svm import SVC\n",
    "from sklearn.ensemble import RandomForestClassifier\n",
    "from sklearn.linear_model import LogisticRegression\n",
    "from sklearn.metrics import accuracy_score,confusion_matrix,classification_report\n",
    "from sklearn.neighbors import KNeighborsClassifier\n",
    "from sklearn.preprocessing import StandardScaler\n",
    "from sklearn.pipeline import Pipeline"
   ]
  },
  {
   "cell_type": "code",
   "execution_count": 16,
   "metadata": {},
   "outputs": [
    {
     "data": {
      "text/plain": [
       "Scrabbling                        2822\n",
       "Foraging                          1661\n",
       "Bipedal vigilance                  718\n",
       "Self groom                         241\n",
       "Reforage                           184\n",
       "Haunch quadrupedal vigilance       138\n",
       "Standing quadrupedal vigilance     123\n",
       "Social                             114\n",
       "Running                            103\n",
       "Sitting vigilance                   88\n",
       "Processing                          61\n",
       "Walking                             56\n",
       "Marking                              4\n",
       "Others                               2\n",
       "Name: Behavior, dtype: int64"
      ]
     },
     "execution_count": 16,
     "metadata": {},
     "output_type": "execute_result"
    }
   ],
   "source": [
    "data_file = '/media/amlan/Data/Thesis Data/Processed Data/train_data.csv'\n",
    "df = pd.read_csv(data_file, index_col=0)\n",
    "df = df.reset_index(drop=True)\n",
    "\n",
    "df = df[df.Behavior != 'No observation']\n",
    "df = df[df.VeDBA > 1e-5]\n",
    "df.VeDBA  = np.log(df.VeDBA)\n",
    "df = df.rename(columns={'VeDBA': 'Log VeDBA'})\n",
    "\n",
    "\n",
    "df['Timestamp'] = pd.to_datetime(df['Timestamp'])\n",
    "df = df.reset_index(drop=True)\n",
    "df.Behavior.value_counts()"
   ]
  },
  {
   "cell_type": "code",
   "execution_count": 17,
   "metadata": {},
   "outputs": [
    {
     "name": "stdout",
     "output_type": "stream",
     "text": [
      "Vigilance Log VeDBA Mean:  -2.857703920353857\n",
      "Vigilance Log VeDBA Var:  1.151022995588004\n",
      "-----------\n",
      "Foraging Log VeDBA Mean:  -0.9021012234687873\n",
      "Foraging Log VeDBA Var:  0.1972636471804652\n",
      "-----------\n",
      "Others Log VeDBA Mean:  -1.5778542980561852\n",
      "Others Log VeDBA Var:  0.48227554434071657\n",
      "-----------\n",
      "Moving Log VeDBA Mean:  -1.051154454204253\n",
      "Moving Log VeDBA Var:  1.8031307739850089\n",
      "-----------\n"
     ]
    }
   ],
   "source": [
    "df.loc[df['Behavior'] == 'Sitting vigilance','Behavior'] = 'Vigilance'\n",
    "df.loc[df['Behavior'] == 'Bipedal vigilance','Behavior'] = 'Vigilance'\n",
    "df.loc[df['Behavior'] == 'Haunch quadrupedal vigilance','Behavior'] = 'Vigilance'\n",
    "df.loc[df['Behavior'] == 'Standing quadrupedal vigilance','Behavior'] = 'Vigilance'\n",
    "\n",
    "df.loc[df['Behavior'] == 'Walking','Behavior'] = 'Moving'\n",
    "df.loc[df['Behavior'] == 'Running','Behavior'] = 'Moving'\n",
    "\n",
    "\n",
    "df.loc[df['Behavior'] == 'Scrabbling','Behavior'] = 'Foraging' #Change\n",
    "\n",
    "df.loc[df['Behavior'] == 'Reforage','Behavior'] = 'Foraging'\n",
    "\n",
    "df.loc[df['Behavior'] == 'Social','Behavior'] = 'Others'\n",
    "df.loc[df['Behavior'] == 'Processing','Behavior'] = 'Others'\n",
    "df.loc[df['Behavior'] == 'Self groom','Behavior'] = 'Others'\n",
    "df.loc[df['Behavior'] == 'Marking','Behavior'] = 'Others'\n",
    "\n",
    "for i in df.Behavior.unique():\n",
    "    print(str(i) + ' Log VeDBA Mean: ',df.loc[df['Behavior'] == str(i),'Log VeDBA'].mean())\n",
    "    print(  str(i) + ' Log VeDBA Var: ',df.loc[df['Behavior'] == str(i),'Log VeDBA'].var())\n",
    "    print('-----------')"
   ]
  },
  {
   "cell_type": "code",
   "execution_count": 21,
   "metadata": {},
   "outputs": [
    {
     "data": {
      "text/plain": [
       "Text(0.5, 1.0, 'VeDBA Distribution Across Behavior')"
      ]
     },
     "execution_count": 21,
     "metadata": {},
     "output_type": "execute_result"
    },
    {
     "data": {
      "image/png": "[encoded data removed]",
      "text/plain": [
       "<Figure size 1800x864 with 1 Axes>"
      ]
     },
     "metadata": {
      "needs_background": "light"
     },
     "output_type": "display_data"
    }
   ],
   "source": [
    "\n",
    "\n",
    "fig,ax = plt.subplots(figsize=(25,12))\n",
    "sns.boxplot(x='Behavior',y='Log VeDBA',data=df[['Behavior','Log VeDBA','X_Mean']], palette='rainbow',showfliers=True)\n",
    "plt.title(\"VeDBA Distribution Across Behavior\")"
   ]
  },
  {
   "cell_type": "code",
   "execution_count": 22,
   "metadata": {},
   "outputs": [
    {
     "name": "stdout",
     "output_type": "stream",
     "text": [
      "RandomForestClassifier(n_estimators=150, n_jobs=-1) model with 1 delay data included\n",
      "\n",
      "Accuracy: 0.9097387173396675\n",
      "              precision    recall  f1-score   support\n",
      "\n",
      "    Foraging       0.93      0.97      0.95       925\n",
      "      Moving       0.81      0.44      0.57        39\n",
      "      Others       0.67      0.43      0.52        79\n",
      "   Vigilance       0.88      0.90      0.89       220\n",
      "\n",
      "    accuracy                           0.91      1263\n",
      "   macro avg       0.82      0.68      0.73      1263\n",
      "weighted avg       0.90      0.91      0.90      1263\n",
      "\n",
      "------\n",
      "RandomForestClassifier(n_estimators=150, n_jobs=-1) model with 2 delay data included\n",
      "\n",
      "Accuracy: 0.9168646080760094\n",
      "              precision    recall  f1-score   support\n",
      "\n",
      "    Foraging       0.93      0.98      0.95       934\n",
      "      Moving       0.76      0.39      0.52        33\n",
      "      Others       0.75      0.52      0.61        73\n",
      "   Vigilance       0.90      0.88      0.89       223\n",
      "\n",
      "    accuracy                           0.92      1263\n",
      "   macro avg       0.84      0.69      0.74      1263\n",
      "weighted avg       0.91      0.92      0.91      1263\n",
      "\n",
      "------\n",
      "RandomForestClassifier(n_estimators=150, n_jobs=-1) model with 3 delay data included\n",
      "\n",
      "Accuracy: 0.9216152019002375\n",
      "              precision    recall  f1-score   support\n",
      "\n",
      "    Foraging       0.94      0.97      0.95       919\n",
      "      Moving       0.88      0.52      0.65        27\n",
      "      Others       0.80      0.55      0.65        85\n",
      "   Vigilance       0.89      0.91      0.90       232\n",
      "\n",
      "    accuracy                           0.92      1263\n",
      "   macro avg       0.87      0.74      0.79      1263\n",
      "weighted avg       0.92      0.92      0.92      1263\n",
      "\n",
      "------\n",
      "RandomForestClassifier(n_estimators=150, n_jobs=-1) model with 4 delay data included\n",
      "\n",
      "Accuracy: 0.9216152019002375\n",
      "              precision    recall  f1-score   support\n",
      "\n",
      "    Foraging       0.93      0.98      0.95       909\n",
      "      Moving       1.00      0.50      0.67        36\n",
      "      Others       0.82      0.52      0.63        87\n",
      "   Vigilance       0.92      0.90      0.91       231\n",
      "\n",
      "    accuracy                           0.92      1263\n",
      "   macro avg       0.92      0.72      0.79      1263\n",
      "weighted avg       0.92      0.92      0.92      1263\n",
      "\n",
      "------\n"
     ]
    }
   ],
   "source": [
    "#df = df.reset_index('Timestamp')\n",
    "import warnings\n",
    "warnings.filterwarnings('ignore')\n",
    "models = [RandomForestClassifier(n_estimators=150,n_jobs=-1)]#,SVC(kernel='linear', gamma='scale'),\n",
    "          #KNeighborsClassifier(n_neighbors=10)]\n",
    "\n",
    "for k in models:\n",
    "    for i in range(1,5):\n",
    "        data_copy = df.copy()\n",
    "        for j in range(i):\n",
    "            df_ = df.iloc[:,4:].shift(periods=j)\n",
    "            data_copy = pd.concat([data_copy,df_],axis=1).dropna()\n",
    "\n",
    "        x=data_copy.iloc[:,4:]  # Features\n",
    "        y=data_copy['Behavior']  # Labels\n",
    "\n",
    "        Scaler = StandardScaler()\n",
    "        X_train, X_test, y_train, y_test = train_test_split(x, y, test_size=0.2,random_state=42) # 80% training and 20% test\n",
    "        clf = k\n",
    "            \n",
    "\n",
    "        X_train = Scaler.fit_transform(X_train)\n",
    "        clf.fit(X_train,y_train)\n",
    "\n",
    "\n",
    "        X_test = Scaler.transform(X_test)\n",
    "        y_pred=clf.predict(X_test)\n",
    "        \n",
    "        \n",
    "        print(f'{k} model with {i} delay data included\\n')\n",
    "        print(\"Accuracy:\",accuracy_score(y_test, y_pred))\n",
    "        print(classification_report(y_test, y_pred))\n",
    "        print('------')\n",
    "\n",
    "        "
   ]
  },
  {
   "cell_type": "code",
   "execution_count": null,
   "metadata": {},
   "outputs": [],
   "source": [
    "for k in models:\n",
    "    for i in range(0,5):\n",
    "        data_copy = df.copy()\n",
    "        for j in range(i):\n",
    "            df_ = df.iloc[:,4:].shift(periods=j)\n",
    "            data_copy = pd.concat([data_copy,df_],axis=1).dropna()\n",
    "\n",
    "        x=data_copy.iloc[:,4:]  # Features\n",
    "        y=data_copy['Behavior']  # Labels\n",
    "\n",
    "        scalar = StandardScaler()\n",
    "        clf = k\n",
    "\n",
    "        pipeline = Pipeline([('transformer', scalar), ('estimator', clf)])\n",
    "\n",
    "        cv = KFold(n_splits=4)\n",
    "        scores = cross_val_score(pipeline, x, y, cv = cv)\n",
    "        print(f'{k} model with {i} delay data included\\n')\n",
    "        #print(f'Mean Accuracy: {np.mean(scores)} Std: {np.std(scores)}')\n",
    "        print('-----------')"
   ]
  },
  {
   "cell_type": "code",
   "execution_count": null,
   "metadata": {},
   "outputs": [],
   "source": []
  }
 ],
 "metadata": {
  "kernelspec": {
   "display_name": "Python 3",
   "language": "python",
   "name": "python3"
  },
  "language_info": {
   "codemirror_mode": {
    "name": "ipython",
    "version": 3
   },
   "file_extension": ".py",
   "mimetype": "text/x-python",
   "name": "python",
   "nbconvert_exporter": "python",
   "pygments_lexer": "ipython3",
   "version": "3.8.10"
  }
 },
 "nbformat": 4,
 "nbformat_minor": 4
}
