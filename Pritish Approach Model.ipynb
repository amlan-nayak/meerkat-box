{
 "cells": [
  {
   "cell_type": "code",
   "execution_count": 2,
   "metadata": {},
   "outputs": [],
   "source": [
    "import numpy as np\n",
    "import pandas as pd\n",
    "import matplotlib.pyplot as plt\n",
    "import seaborn as sns"
   ]
  },
  {
   "cell_type": "code",
   "execution_count": 1,
   "metadata": {},
   "outputs": [],
   "source": [
    "from sklearn.model_selection import train_test_split\n",
    "from sklearn.svm import SVC\n",
    "from sklearn.preprocessing import StandardScaler\n",
    "from sklearn.ensemble import RandomForestClassifier\n",
    "from sklearn.metrics import confusion_matrix,accuracy_score,plot_confusion_matrix\n",
    "from sklearn.decomposition import PCA"
   ]
  },
  {
   "cell_type": "code",
   "execution_count": 3,
   "metadata": {},
   "outputs": [
    {
     "data": {
      "text/plain": [
       "Scrabbling                        2822\n",
       "Foraging                          1661\n",
       "Bipedal vigilance                  718\n",
       "Self groom                         241\n",
       "Reforage                           184\n",
       "Haunch quadrupedal vigilance       138\n",
       "Standing quadrupedal vigilance     123\n",
       "Social                             114\n",
       "Running                            103\n",
       "Sitting vigilance                   88\n",
       "Processing                          61\n",
       "Walking                             56\n",
       "Marking                              4\n",
       "Others                               2\n",
       "Name: Behavior, dtype: int64"
      ]
     },
     "execution_count": 3,
     "metadata": {},
     "output_type": "execute_result"
    }
   ],
   "source": [
    "data_file = '/media/amlan/Data/Thesis Data/Processed Data/train_data.csv'\n",
    "df = pd.read_csv(data_file, index_col=0)\n",
    "df = df.reset_index(drop=True)\n",
    "\n",
    "df = df[df.Behavior != 'No observation']\n",
    "df = df[df.VeDBA > 1e-5]\n",
    "df.VeDBA  = np.log(df.VeDBA)\n",
    "df = df.rename(columns={'VeDBA': 'Log VeDBA'})\n",
    "\n",
    "\n",
    "df['Timestamp'] = pd.to_datetime(df['Timestamp'])\n",
    "df = df.reset_index(drop=True)\n",
    "df.Behavior.value_counts()"
   ]
  },
  {
   "cell_type": "code",
   "execution_count": 4,
   "metadata": {},
   "outputs": [
    {
     "name": "stdout",
     "output_type": "stream",
     "text": [
      "Vigilance Log VeDBA Mean:  -2.857703920353857\n",
      "Vigilance Log VeDBA Var:  1.151022995588004\n",
      "\n",
      "\n",
      "Foraging Log VeDBA Mean:  -0.9021012234687873\n",
      "Foraging Log VeDBA Var:  0.1972636471804652\n",
      "\n",
      "\n",
      "Others Log VeDBA Mean:  -1.5778542980561852\n",
      "Others Log VeDBA Var:  0.48227554434071657\n",
      "\n",
      "\n",
      "Running Log VeDBA Mean:  -1.051154454204253\n",
      "Running Log VeDBA Var:  1.8031307739850089\n",
      "\n",
      "\n"
     ]
    }
   ],
   "source": [
    "df.loc[df['Behavior'] == 'Sitting vigilance','Behavior'] = 'Vigilance'\n",
    "df.loc[df['Behavior'] == 'Bipedal vigilance','Behavior'] = 'Vigilance'\n",
    "df.loc[df['Behavior'] == 'Haunch quadrupedal vigilance','Behavior'] = 'Vigilance'\n",
    "df.loc[df['Behavior'] == 'Standing quadrupedal vigilance','Behavior'] = 'Vigilance'\n",
    "\n",
    "df.loc[df['Behavior'] == 'Walking','Behavior'] = 'Running'\n",
    "\n",
    "\n",
    "df.loc[df['Behavior'] == 'Scrabbling','Behavior'] = 'Foraging' #Change\n",
    "\n",
    "df.loc[df['Behavior'] == 'Reforage','Behavior'] = 'Foraging'\n",
    "\n",
    "df.loc[df['Behavior'] == 'Social','Behavior'] = 'Others'\n",
    "df.loc[df['Behavior'] == 'Processing','Behavior'] = 'Others'\n",
    "df.loc[df['Behavior'] == 'Self groom','Behavior'] = 'Others'\n",
    "df.loc[df['Behavior'] == 'Marking','Behavior'] = 'Others'\n",
    "\n",
    "for i in df.Behavior.unique():\n",
    "    print(str(i) + ' Log VeDBA Mean: ',df.loc[df['Behavior'] == str(i),'Log VeDBA'].mean())\n",
    "    print(  str(i) + ' Log VeDBA Var: ',df.loc[df['Behavior'] == str(i),'Log VeDBA'].var())\n",
    "    print('\\n')"
   ]
  },
  {
   "cell_type": "code",
   "execution_count": 5,
   "metadata": {},
   "outputs": [
    {
     "data": {
      "text/plain": [
       "Foraging     4667\n",
       "Vigilance    1067\n",
       "Others        422\n",
       "Running       159\n",
       "Name: Behavior, dtype: int64"
      ]
     },
     "execution_count": 5,
     "metadata": {},
     "output_type": "execute_result"
    }
   ],
   "source": [
    "df.Behavior.value_counts()"
   ]
  },
  {
   "cell_type": "code",
   "execution_count": null,
   "metadata": {},
   "outputs": [],
   "source": []
  }
 ],
 "metadata": {
  "kernelspec": {
   "display_name": "Python 3",
   "language": "python",
   "name": "python3"
  },
  "language_info": {
   "codemirror_mode": {
    "name": "ipython",
    "version": 3
   },
   "file_extension": ".py",
   "mimetype": "text/x-python",
   "name": "python",
   "nbconvert_exporter": "python",
   "pygments_lexer": "ipython3",
   "version": "3.8.10"
  }
 },
 "nbformat": 4,
 "nbformat_minor": 4
}
